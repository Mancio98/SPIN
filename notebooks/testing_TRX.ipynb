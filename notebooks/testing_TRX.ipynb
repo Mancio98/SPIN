{
 "cells": [
  {
   "cell_type": "code",
   "execution_count": 1,
   "metadata": {},
   "outputs": [],
   "source": [
    "import pandas as pd\n",
    "import numpy as np\n",
    "import matplotlib.pyplot as plt\n",
    "import torch\n",
    "import torch.nn as nn\n",
    "\n",
    "from pathlib import Path"
   ]
  },
  {
   "cell_type": "code",
   "execution_count": 2,
   "metadata": {},
   "outputs": [],
   "source": [
    "DIR_PATH = Path(\"..\")"
   ]
  },
  {
   "cell_type": "code",
   "execution_count": 3,
   "metadata": {},
   "outputs": [],
   "source": [
    "seed = 42"
   ]
  },
  {
   "cell_type": "markdown",
   "metadata": {},
   "source": [
    "# Dataset"
   ]
  },
  {
   "cell_type": "markdown",
   "metadata": {},
   "source": [
    "### loading"
   ]
  },
  {
   "cell_type": "code",
   "execution_count": 4,
   "metadata": {},
   "outputs": [
    {
     "data": {
      "text/plain": [
       "(28601, 5)"
      ]
     },
     "execution_count": 4,
     "metadata": {},
     "output_type": "execute_result"
    }
   ],
   "source": [
    "data_inpath = DIR_PATH / \"datasets/trx_data.csv\"\n",
    "\n",
    "df = pd.read_csv(data_inpath, sep=',')\n",
    "df.shape"
   ]
  },
  {
   "cell_type": "code",
   "execution_count": 5,
   "metadata": {},
   "outputs": [
    {
     "data": {
      "text/html": [
       "<div>\n",
       "<style scoped>\n",
       "    .dataframe tbody tr th:only-of-type {\n",
       "        vertical-align: middle;\n",
       "    }\n",
       "\n",
       "    .dataframe tbody tr th {\n",
       "        vertical-align: top;\n",
       "    }\n",
       "\n",
       "    .dataframe thead th {\n",
       "        text-align: right;\n",
       "    }\n",
       "</style>\n",
       "<table border=\"1\" class=\"dataframe\">\n",
       "  <thead>\n",
       "    <tr style=\"text-align: right;\">\n",
       "      <th></th>\n",
       "      <th>id_seq</th>\n",
       "      <th>sequence</th>\n",
       "      <th>start</th>\n",
       "      <th>end</th>\n",
       "      <th>group</th>\n",
       "    </tr>\n",
       "  </thead>\n",
       "  <tbody>\n",
       "    <tr>\n",
       "      <th>0</th>\n",
       "      <td>tr|F0RTT8|F0RTT8_SPHGB</td>\n",
       "      <td>MSEIIVTEANFEQEVLKADKPVLVDFWAPWCGPCKMIAPAIAQLAQ...</td>\n",
       "      <td>7</td>\n",
       "      <td>83</td>\n",
       "      <td>TRX-1</td>\n",
       "    </tr>\n",
       "    <tr>\n",
       "      <th>1</th>\n",
       "      <td>tr|A0A7W0KXH4|A0A7W0KXH4_9ACTN</td>\n",
       "      <td>MAIDVTDATFDEQVILASAQQPVVVDLWAEWCGPCRTLGPIIEKVV...</td>\n",
       "      <td>3</td>\n",
       "      <td>84</td>\n",
       "      <td>TRX-1</td>\n",
       "    </tr>\n",
       "    <tr>\n",
       "      <th>2</th>\n",
       "      <td>tr|A0A950RKP2|A0A950RKP2_UNCPL</td>\n",
       "      <td>MSSSQTAPIINVGEEDFERAVIEQSHERPVIVDFWAPWCPPCRMLA...</td>\n",
       "      <td>10</td>\n",
       "      <td>91</td>\n",
       "      <td>TRX-1</td>\n",
       "    </tr>\n",
       "    <tr>\n",
       "      <th>3</th>\n",
       "      <td>tr|A0A9E3Y983|A0A9E3Y983_9ACTN</td>\n",
       "      <td>MTMIDVTDQTFEAEVLQKSMEVPVVVDLWAPWCGPCRTLGPILDKV...</td>\n",
       "      <td>4</td>\n",
       "      <td>85</td>\n",
       "      <td>TRX-1</td>\n",
       "    </tr>\n",
       "    <tr>\n",
       "      <th>4</th>\n",
       "      <td>tr|A0A1V5RS69|A0A1V5RS69_9CHLR</td>\n",
       "      <td>MKSEYVIDVSDATFQTEVINRSRQTPVVVDFWAPWCGPCRMLGPVL...</td>\n",
       "      <td>6</td>\n",
       "      <td>88</td>\n",
       "      <td>TRX-1</td>\n",
       "    </tr>\n",
       "  </tbody>\n",
       "</table>\n",
       "</div>"
      ],
      "text/plain": [
       "                           id_seq  \\\n",
       "0          tr|F0RTT8|F0RTT8_SPHGB   \n",
       "1  tr|A0A7W0KXH4|A0A7W0KXH4_9ACTN   \n",
       "2  tr|A0A950RKP2|A0A950RKP2_UNCPL   \n",
       "3  tr|A0A9E3Y983|A0A9E3Y983_9ACTN   \n",
       "4  tr|A0A1V5RS69|A0A1V5RS69_9CHLR   \n",
       "\n",
       "                                            sequence  start  end  group  \n",
       "0  MSEIIVTEANFEQEVLKADKPVLVDFWAPWCGPCKMIAPAIAQLAQ...      7   83  TRX-1  \n",
       "1  MAIDVTDATFDEQVILASAQQPVVVDLWAEWCGPCRTLGPIIEKVV...      3   84  TRX-1  \n",
       "2  MSSSQTAPIINVGEEDFERAVIEQSHERPVIVDFWAPWCPPCRMLA...     10   91  TRX-1  \n",
       "3  MTMIDVTDQTFEAEVLQKSMEVPVVVDLWAPWCGPCRTLGPILDKV...      4   85  TRX-1  \n",
       "4  MKSEYVIDVSDATFQTEVINRSRQTPVVVDFWAPWCGPCRMLGPVL...      6   88  TRX-1  "
      ]
     },
     "execution_count": 5,
     "metadata": {},
     "output_type": "execute_result"
    }
   ],
   "source": [
    "df.head()"
   ]
  },
  {
   "cell_type": "markdown",
   "metadata": {},
   "source": [
    "Remove possible gaps"
   ]
  },
  {
   "cell_type": "code",
   "execution_count": 6,
   "metadata": {},
   "outputs": [],
   "source": [
    "df['sequence'] = df['sequence'].apply(lambda x: x.replace('-',''))"
   ]
  },
  {
   "cell_type": "code",
   "execution_count": 7,
   "metadata": {},
   "outputs": [
    {
     "name": "stdout",
     "output_type": "stream",
     "text": [
      "longer sequence length = 8256\n",
      "shorter sequence length = 97\n"
     ]
    }
   ],
   "source": [
    "print(f\"longer sequence length = {df['sequence'].str.len().max()}\")\n",
    "print(f\"shorter sequence length = {df['sequence'].str.len().min()}\")"
   ]
  },
  {
   "cell_type": "markdown",
   "metadata": {},
   "source": [
    "Remove possible duplicates"
   ]
  },
  {
   "cell_type": "code",
   "execution_count": 8,
   "metadata": {},
   "outputs": [
    {
     "name": "stdout",
     "output_type": "stream",
     "text": [
      "duplicates = 0\n"
     ]
    },
    {
     "data": {
      "text/plain": [
       "(28601, 5)"
      ]
     },
     "execution_count": 8,
     "metadata": {},
     "output_type": "execute_result"
    }
   ],
   "source": [
    "n_duplicates = df.duplicated(subset='sequence').sum()\n",
    "print(f\"duplicates = {n_duplicates}\")\n",
    "\n",
    "if n_duplicates > 0:\n",
    "    df = df.drop_duplicates(subset='sequence')\n",
    "df.shape"
   ]
  },
  {
   "cell_type": "code",
   "execution_count": 9,
   "metadata": {},
   "outputs": [
    {
     "data": {
      "image/png": "[encoded data removed]",
      "text/plain": [
       "<Figure size 640x480 with 1 Axes>"
      ]
     },
     "metadata": {},
     "output_type": "display_data"
    }
   ],
   "source": [
    "supports = df['group'].value_counts().sort_index(key=lambda x: x.str.extract(r'(\\d+)')[0].astype(int))\n",
    "plt.bar(supports.index, supports)\n",
    "plt.show()"
   ]
  },
  {
   "cell_type": "markdown",
   "metadata": {},
   "source": [
    "Splitting 80/10/10"
   ]
  },
  {
   "cell_type": "code",
   "execution_count": 10,
   "metadata": {},
   "outputs": [
    {
     "name": "stdout",
     "output_type": "stream",
     "text": [
      "(22880, 6)\n",
      "(2860, 6)\n",
      "(2860, 6)\n"
     ]
    }
   ],
   "source": [
    "from sklearn.model_selection import train_test_split\n",
    "\n",
    "indices = df.index\n",
    "pd_cat = pd.Categorical(df['group'])\n",
    "\n",
    "labels = pd_cat.categories\n",
    "df['label'] = pd_cat.codes\n",
    "\n",
    "train_idx, test_idx = train_test_split(indices, test_size=0.1, random_state=seed, stratify=df['label'])\n",
    "train_idx, val_idx = train_test_split(train_idx, test_size=0.1/0.9, random_state=seed, stratify=df.iloc[train_idx]['label'])\n",
    "\n",
    "train_df = df.iloc[train_idx].reset_index(drop=True)\n",
    "val_df = df.iloc[val_idx].reset_index(drop=True)\n",
    "test_df = df.iloc[val_idx].reset_index(drop=True)\n",
    "\n",
    "print(train_df.shape)\n",
    "print(val_df.shape)\n",
    "print(test_df.shape)"
   ]
  },
  {
   "cell_type": "markdown",
   "metadata": {},
   "source": [
    "### Sequence identity"
   ]
  },
  {
   "cell_type": "code",
   "execution_count": 136,
   "metadata": {},
   "outputs": [],
   "source": [
    "def sq_identity(s1,s2):\n",
    "\n",
    "    score = 0\n",
    "    for i in range(len(s1)):\n",
    "        \n",
    "        aa1,aa2 = s1[i],s2[i]\n",
    "\n",
    "        if aa1 != '-' and aa2 != '-':\n",
    "            score += aa1 == aa2\n",
    "\n",
    "    return score / len(s1)"
   ]
  },
  {
   "cell_type": "code",
   "execution_count": 146,
   "metadata": {},
   "outputs": [
    {
     "name": "stdout",
     "output_type": "stream",
     "text": [
      "Computing msa for TRX-1 ...\n",
      "Successfull msa for TRX-1\n"
     ]
    },
    {
     "ename": "KeyboardInterrupt",
     "evalue": "",
     "output_type": "error",
     "traceback": [
      "\u001b[0;31m---------------------------------------------------------------------------\u001b[0m",
      "\u001b[0;31mKeyboardInterrupt\u001b[0m                         Traceback (most recent call last)",
      "Cell \u001b[0;32mIn[146], line 44\u001b[0m\n\u001b[1;32m     41\u001b[0m                 index_val\u001b[38;5;241m.\u001b[39mappend(msa[index1]\u001b[38;5;241m.\u001b[39mid)\n\u001b[1;32m     42\u001b[0m                 col_val\u001b[38;5;241m.\u001b[39mappend(msa[index2]\u001b[38;5;241m.\u001b[39mid)\n\u001b[0;32m---> 44\u001b[0m                 id_mtx[index1][index2] \u001b[38;5;241m=\u001b[39m \u001b[43msq_identity\u001b[49m\u001b[43m(\u001b[49m\u001b[43mmsa\u001b[49m\u001b[43m[\u001b[49m\u001b[43mindex1\u001b[49m\u001b[43m]\u001b[49m\u001b[38;5;241;43m.\u001b[39;49m\u001b[43mseq\u001b[49m\u001b[43m,\u001b[49m\u001b[43m \u001b[49m\u001b[43mmsa\u001b[49m\u001b[43m[\u001b[49m\u001b[43mindex2\u001b[49m\u001b[43m]\u001b[49m\u001b[38;5;241;43m.\u001b[39;49m\u001b[43mseq\u001b[49m\u001b[43m)\u001b[49m\n\u001b[1;32m     46\u001b[0m     classes_idenity_info[classes][\u001b[38;5;124m'\u001b[39m\u001b[38;5;124mid_mtx\u001b[39m\u001b[38;5;124m'\u001b[39m] \u001b[38;5;241m=\u001b[39m pd\u001b[38;5;241m.\u001b[39mDataFrame(id_mtx, index\u001b[38;5;241m=\u001b[39mindex_val, columns\u001b[38;5;241m=\u001b[39mcol_val)\n\u001b[1;32m     48\u001b[0m \u001b[38;5;28;01melse\u001b[39;00m:\n",
      "Cell \u001b[0;32mIn[136], line 6\u001b[0m, in \u001b[0;36msq_identity\u001b[0;34m(s1, s2)\u001b[0m\n\u001b[1;32m      3\u001b[0m score \u001b[38;5;241m=\u001b[39m \u001b[38;5;241m0\u001b[39m\n\u001b[1;32m      4\u001b[0m \u001b[38;5;28;01mfor\u001b[39;00m i \u001b[38;5;129;01min\u001b[39;00m \u001b[38;5;28mrange\u001b[39m(\u001b[38;5;28mlen\u001b[39m(s1)):\n\u001b[0;32m----> 6\u001b[0m     aa1,aa2 \u001b[38;5;241m=\u001b[39m \u001b[43ms1\u001b[49m\u001b[43m[\u001b[49m\u001b[43mi\u001b[49m\u001b[43m]\u001b[49m,s2[i]\n\u001b[1;32m      8\u001b[0m     \u001b[38;5;28;01mif\u001b[39;00m aa1 \u001b[38;5;241m!=\u001b[39m \u001b[38;5;124m'\u001b[39m\u001b[38;5;124m-\u001b[39m\u001b[38;5;124m'\u001b[39m \u001b[38;5;129;01mand\u001b[39;00m aa2 \u001b[38;5;241m!=\u001b[39m \u001b[38;5;124m'\u001b[39m\u001b[38;5;124m-\u001b[39m\u001b[38;5;124m'\u001b[39m:\n\u001b[1;32m      9\u001b[0m         score \u001b[38;5;241m+\u001b[39m\u001b[38;5;241m=\u001b[39m aa1 \u001b[38;5;241m==\u001b[39m aa2\n",
      "File \u001b[0;32m~/miniconda3/envs/bioenv/lib/python3.12/site-packages/Bio/Seq.py:505\u001b[0m, in \u001b[0;36m_SeqAbstractBaseClass.__getitem__\u001b[0;34m(self, index)\u001b[0m\n\u001b[1;32m    501\u001b[0m \u001b[38;5;129m@overload\u001b[39m\n\u001b[1;32m    502\u001b[0m \u001b[38;5;28;01mdef\u001b[39;00m \u001b[38;5;21m__getitem__\u001b[39m(\u001b[38;5;28mself\u001b[39m, index: \u001b[38;5;28mslice\u001b[39m) \u001b[38;5;241m-\u001b[39m\u001b[38;5;241m>\u001b[39m \u001b[38;5;124m\"\u001b[39m\u001b[38;5;124mSeq\u001b[39m\u001b[38;5;124m\"\u001b[39m:\n\u001b[1;32m    503\u001b[0m     \u001b[38;5;241m.\u001b[39m\u001b[38;5;241m.\u001b[39m\u001b[38;5;241m.\u001b[39m\n\u001b[0;32m--> 505\u001b[0m \u001b[38;5;28;01mdef\u001b[39;00m \u001b[38;5;21m__getitem__\u001b[39m(\u001b[38;5;28mself\u001b[39m, index):\n\u001b[1;32m    506\u001b[0m \u001b[38;5;250m    \u001b[39m\u001b[38;5;124;03m\"\"\"Return a subsequence as a single letter or as a sequence object.\u001b[39;00m\n\u001b[1;32m    507\u001b[0m \n\u001b[1;32m    508\u001b[0m \u001b[38;5;124;03m    If the index is an integer, a single letter is returned as a Python\u001b[39;00m\n\u001b[0;32m   (...)\u001b[0m\n\u001b[1;32m    521\u001b[0m \u001b[38;5;124;03m    MutableSeq('ACG')\u001b[39;00m\n\u001b[1;32m    522\u001b[0m \u001b[38;5;124;03m    \"\"\"\u001b[39;00m\n\u001b[1;32m    523\u001b[0m     \u001b[38;5;28;01mif\u001b[39;00m \u001b[38;5;28misinstance\u001b[39m(index, numbers\u001b[38;5;241m.\u001b[39mIntegral):\n\u001b[1;32m    524\u001b[0m         \u001b[38;5;66;03m# Return a single letter as a string\u001b[39;00m\n",
      "\u001b[0;31mKeyboardInterrupt\u001b[0m: "
     ]
    }
   ],
   "source": [
    "import subprocess\n",
    "from collections import defaultdict\n",
    "from Bio import AlignIO\n",
    "\n",
    "infile = DIR_PATH / \".tmp_inmafft.fasta\"\n",
    "outfile = DIR_PATH / \".tmp_outmafft.fasta\"\n",
    "\n",
    "cli_mafft = f\"mafft --localpair --thread 16 --anysymbol {infile} > {outfile}\"\n",
    "\n",
    "classes_idenity_info = defaultdict(defaultdict)\n",
    "\n",
    "for classes in train_df['group'].unique():\n",
    "\n",
    "    class_df = train_df[train_df['group'] == classes]\n",
    "    \n",
    "    f = open(infile, 'w')\n",
    "    fasta_str = \"\".join([f\">{id}\\n{seq}\\n\" for id, seq in class_df[['id_seq','sequence']].values])\n",
    "    f.write(fasta_str)\n",
    "    f.close()\n",
    "\n",
    "    print(f\"Computing msa for {classes} ...\")\n",
    "\n",
    "    result = subprocess.run(cli_mafft, shell=True, capture_output=True, text=True)\n",
    "    \n",
    "    if result.returncode == 0:\n",
    "        print(f\"Successfull msa for {classes}\")\n",
    "\n",
    "        msa = AlignIO.read(outfile, \"fasta\")\n",
    "        \n",
    "        index_val = list()\n",
    "        col_val = list()\n",
    "\n",
    "        id_mtx = np.eye(len(msa))\n",
    "\n",
    "        for index1 in range(len(msa)-1):\n",
    "\n",
    "            for index2 in range(index1+1, len(msa)):\n",
    "\n",
    "                if index1 != index2:\n",
    "\n",
    "                    index_val.append(msa[index1].id)\n",
    "                    col_val.append(msa[index2].id)\n",
    "                    \n",
    "                    id_mtx[index1][index2] = sq_identity(msa[index1].seq, msa[index2].seq)\n",
    "\n",
    "        classes_idenity_info[classes]['id_mtx'] = pd.DataFrame(id_mtx, index=index_val, columns=col_val)\n",
    "       \n",
    "    else:\n",
    "        print(f\"Command for {classes} failed with error: {result.stderr.strip()}\")"
   ]
  },
  {
   "cell_type": "code",
   "execution_count": 12,
   "metadata": {},
   "outputs": [],
   "source": [
    "from collections import defaultdict\n",
    "from Bio import Align\n",
    "from Bio.Align import substitution_matrices\n",
    "from concurrent.futures import ThreadPoolExecutor\n",
    "\n",
    "\n",
    "def compute_score(i, j, s1, s2, aligner):\n",
    "\n",
    "    \n",
    "    return (i, j, aligner.score(s1, s2) / len(min(s1, s2, key=len)))\n",
    "\n",
    "\n",
    "classes_identity_info = defaultdict(defaultdict)\n",
    "\n",
    "# substitution_matrices.load()  \n",
    "# matrix = substitution_matrices.load(\"BLOSUM62\")\n",
    "aligner = Align.PairwiseAligner(match_score=1.0)\n",
    "\n",
    "# aligner.substitution_matrix = matrix\n",
    "\n",
    "for label in train_df['label'].unique():\n",
    "    class_df = train_df[train_df['label'] == label].reset_index(drop=True)\n",
    "    \n",
    "    index_val = list()\n",
    "    col_val = list()\n",
    "    id_mtx = np.eye(len(class_df))\n",
    "\n",
    "    with ThreadPoolExecutor() as executor:\n",
    "\n",
    "        futures = []\n",
    "        for i in class_df.index[:-1]:\n",
    "            for j in class_df.index[i+1:]:\n",
    "                s1, s2 = class_df['sequence'][i], class_df['sequence'][j]\n",
    "                futures.append(executor.submit(compute_score, i, j, s1, s2, aligner))\n",
    "\n",
    "        for future in futures:\n",
    "            i, j, score = future.result()\n",
    "            index_val.append(class_df['id_seq'][i])\n",
    "            col_val.append(class_df['id_seq'][j])\n",
    "            id_mtx[i][j] = score\n",
    "\n",
    "    classes_identity_info[label]['id_mtx'] = pd.DataFrame(id_mtx, index=index_val, columns=col_val)\n"
   ]
  },
  {
   "cell_type": "markdown",
   "metadata": {},
   "source": [
    "# Data Encoding ESM-2"
   ]
  },
  {
   "cell_type": "code",
   "execution_count": null,
   "metadata": {},
   "outputs": [],
   "source": [
    "from transformers import EsmModel, AutoTokenizer\n",
    "\n",
    "esm_v = \"facebook/esm2_t12_35M_UR50D\"\n",
    "esm = EsmModel.from_pretrained(esm_v, add_pooling_layer=False)\n",
    "\n",
    "for param in esm.parameters():\n",
    "    param.requires_grad = False"
   ]
  },
  {
   "cell_type": "code",
   "execution_count": null,
   "metadata": {},
   "outputs": [],
   "source": [
    "class TrxDataset(Dataset):\n",
    "\n",
    "    def __init__(self, dataframe: pd.DataFrame, tokenizer):\n",
    "        \n",
    "        self.X = dataframe['sequence']\n",
    "        \n",
    "        if 'label' in dataframe.columns:\n",
    "            self.y = torch.LongTensor(dataframe['label'])\n",
    "\n",
    "        self.data_df = None\n",
    "        self.tokenizer = tokenizer\n",
    "\n",
    "    def __len__(self):\n",
    "        return len(self.X) \n",
    "\n",
    "    def __getitem__(self, idx):\n",
    "\n",
    "        batch_x = self.tokenizer(\n",
    "            self.X[idx], max_length=1024, padding='max_length', truncation=True, return_tensors='pt'\n",
    "            )\n",
    "        \n",
    "        batch_x = {key: val.squeeze(0) for key, val in batch_x.items()}  # Remove batch dimension\n",
    "\n",
    "        batch_y = self.y[idx]\n",
    "            \n",
    "        return batch_x, batch_y\n",
    "    \n",
    "\n",
    "tokenizer = AutoTokenizer.from_pretrained(esm_v)\n",
    "\n",
    "train_ds = TrxDataset(train_df, tokenizer)\n",
    "\n",
    "train_loader = DataLoader(\n",
    "    train_ds, bacth_size=32, shuffle=False, pin_memory=True, num_workers=4\n",
    "    )"
   ]
  },
  {
   "cell_type": "code",
   "execution_count": null,
   "metadata": {},
   "outputs": [],
   "source": [
    "collect_data = list()\n",
    "\n",
    "non_seq_tokens = [tokenizer.token_to_id(token) for token in [\"<unk>\",\"<cls>\",\"<pad>\",\"<mask>\",\"<eos>\"]]\n",
    "for inputs, targets in train_loader:\n",
    "\n",
    "    last_hidd = esm(**inputs)[0]\n",
    "\n",
    "    # mean of each hidden dimension\n",
    "\n",
    "    seq_mask = (last_hidd not in non_seq_tokens).any(0)\n",
    "    collect_data.extend(np.mean(last_hidd[seq_mask], axis = -1))"
   ]
  },
  {
   "cell_type": "markdown",
   "metadata": {},
   "source": [
    "### Visualization"
   ]
  },
  {
   "cell_type": "code",
   "execution_count": null,
   "metadata": {},
   "outputs": [],
   "source": [
    "import umap\n",
    "import matplotlib.pyplot as plt\n",
    "\n",
    "seqs_norm_vec = np.sqrt(np.sum(np.square(train_embedding_data), axis=1))\n",
    "\n",
    "u = umap.UMAP().fit_transform(train_embedding_data / seqs_norm_vec.reshape(-1,1))\n",
    "# mapper = umap.UMAP().fit(data)\n",
    "\n",
    "# umap.plot.points(mapper, labels=data_label, theme='fire')\n",
    "\n",
    "plt.scatter(u[:,0], u[:,1], c='grey', alpha=0.3 ,s=25)\n",
    "\n",
    "label_idx = list(founded_idx.values())\n",
    "plt.scatter(u[label_idx,0], u[label_idx,1], c=[label_color_map[distinct_labels[label]] for label in data_label[label_idx]], s=25)\n",
    "\n",
    "plt.title('umap TRX')\n",
    "plt.show()"
   ]
  }
 ],
 "metadata": {
  "kernelspec": {
   "display_name": "torchenv",
   "language": "python",
   "name": "python3"
  },
  "language_info": {
   "codemirror_mode": {
    "name": "ipython",
    "version": 3
   },
   "file_extension": ".py",
   "mimetype": "text/x-python",
   "name": "python",
   "nbconvert_exporter": "python",
   "pygments_lexer": "ipython3",
   "version": "3.12.2"
  }
 },
 "nbformat": 4,
 "nbformat_minor": 2
}
