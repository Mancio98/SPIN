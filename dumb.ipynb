{
 "cells": [
  {
   "cell_type": "code",
   "execution_count": 1,
   "metadata": {},
   "outputs": [],
   "source": [
    "import pandas as pd\n",
    "from pathlib import Path"
   ]
  },
  {
   "cell_type": "code",
   "execution_count": 11,
   "metadata": {},
   "outputs": [],
   "source": [
    "def get_sequences_from_fasta(header_list, fasta_path):\n",
    "\n",
    "    f = open(fasta_path, 'r')\n",
    "\n",
    "    fasta_txt = f.read()\n",
    "    data = [(seq.split()[0],\"\".join(seq.split('\\n')[1:])) for seq in fasta_txt.split('>')[1:]]\n",
    "\n",
    "    f.close()\n",
    "\n",
    "    founded_seqs = ([],[])\n",
    "    for head_in_file, seq in data:\n",
    "\n",
    "        if not head_in_file in header_list:\n",
    "            founded_seqs[0].append(head_in_file)\n",
    "            founded_seqs[1].append(seq.replace('\\n',''))\n",
    "\n",
    "    return founded_seqs"
   ]
  },
  {
   "cell_type": "code",
   "execution_count": 3,
   "metadata": {},
   "outputs": [],
   "source": [
    "def get_header(fasta_path):\n",
    "    \n",
    "    f = open(fasta_path, 'r')\n",
    "    fasta_txt = f.read()\n",
    "    header = [seq.split()[0] for seq in fasta_txt.split('>')[1:]]\n",
    "    f.close()\n",
    "\n",
    "    return header"
   ]
  },
  {
   "cell_type": "code",
   "execution_count": 14,
   "metadata": {},
   "outputs": [],
   "source": [
    "def save_to_csv(seq_ids, sequences, ofpath):\n",
    "\n",
    "    dataset_dict = {'id_seq': seq_ids, 'sequence': sequences}\n",
    "\n",
    "    path = Path(ofpath)\n",
    "\n",
    "    if not path.parent.exists():\n",
    "        path.parent.mkdir(parents=True, exist_ok=True)\n",
    "\n",
    "    pd.DataFrame.from_dict(dataset_dict).to_csv(path, index=True)"
   ]
  },
  {
   "cell_type": "code",
   "execution_count": 15,
   "metadata": {},
   "outputs": [],
   "source": [
    "main_fasta = \"/home/andrea/Project/TRX/TRX_30k/seq_to_classify.fasta_rep_seq.fasta\"\n",
    "csv_path = \"/home/andrea/Project/TRX/TRX_30k/data_sequence_startend.csv\"\n",
    "\n",
    "df = pd.read_csv(csv_path, sep=',')\n",
    "df.drop_duplicates(subset='sequence', inplace=True)\n",
    "\n",
    "header_list = df['id_seq'].values.tolist()\n",
    "\n",
    "head_seq_tuple = get_sequences_from_fasta(header_list, main_fasta)\n",
    "\n",
    "save_to_csv(head_seq_tuple[0], head_seq_tuple[1], \"/home/andrea/Project/TRX/TRX_30k/data_to_infer.csv\")"
   ]
  },
  {
   "cell_type": "code",
   "execution_count": null,
   "metadata": {},
   "outputs": [],
   "source": [
    "import pandas as pd\n",
    "\n",
    "a = {\"ciao\":[1,34,53,5,3,53], \"tuo\": [34,3,51,4512,4]}\n",
    "\n",
    "pd"
   ]
  }
 ],
 "metadata": {
  "kernelspec": {
   "display_name": "bioenv",
   "language": "python",
   "name": "python3"
  },
  "language_info": {
   "codemirror_mode": {
    "name": "ipython",
    "version": 3
   },
   "file_extension": ".py",
   "mimetype": "text/x-python",
   "name": "python",
   "nbconvert_exporter": "python",
   "pygments_lexer": "ipython3",
   "version": "3.12.2"
  }
 },
 "nbformat": 4,
 "nbformat_minor": 2
}
